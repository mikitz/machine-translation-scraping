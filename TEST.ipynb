{
 "metadata": {
  "language_info": {
   "codemirror_mode": {
    "name": "ipython",
    "version": 3
   },
   "file_extension": ".py",
   "mimetype": "text/x-python",
   "name": "python",
   "nbconvert_exporter": "python",
   "pygments_lexer": "ipython3",
   "version": "3.8.3-final"
  },
  "orig_nbformat": 2,
  "kernelspec": {
   "name": "python3",
   "display_name": "Python 3",
   "language": "python"
  }
 },
 "nbformat": 4,
 "nbformat_minor": 2,
 "cells": [
  {
   "source": [
    "## Import Necessary Packages"
   ],
   "cell_type": "markdown",
   "metadata": {}
  },
  {
   "cell_type": "code",
   "execution_count": 111,
   "metadata": {},
   "outputs": [],
   "source": [
    "# Import necessary modules in ascending order by line length\n",
    "# Just b/c\n",
    "import os\n",
    "import time\n",
    "import math\n",
    "import random\n",
    "import pandas as pd\n",
    "from datetime import datetime\n",
    "from selenium import webdriver\n",
    "from selenium.webdriver.common.keys import Keys\n",
    "from selenium.webdriver.common.by import By\n",
    "from selenium.webdriver.support.ui import WebDriverWait\n",
    "from selenium.webdriver.support import expected_conditions as EC"
   ]
  },
  {
   "source": [
    "## Test New Scrapers"
   ],
   "cell_type": "markdown",
   "metadata": {}
  },
  {
   "cell_type": "code",
   "execution_count": 112,
   "metadata": {},
   "outputs": [],
   "source": [
    "# Create a DataFrame of the sentences to be translated\n",
    "source = pd.read_excel('Source [TEST].xlsx', header = None)\n",
    "source.columns = ['origin', 'language', 'extra']\n",
    "# Get the project name\n",
    "project = source.language[1]\n",
    "# Get the language\n",
    "language = source.language[0]\n",
    "# Drop the language column\n",
    "source = source.drop(columns = 'language')\n",
    "# Drop the extra column\n",
    "source = source.drop(columns = 'extra')\n",
    "# Drop nulls\n",
    "source = source.dropna(axis = 0)"
   ]
  },
  {
   "source": [
    "### Function-ify Attempt #1"
   ],
   "cell_type": "markdown",
   "metadata": {}
  },
  {
   "cell_type": "code",
   "execution_count": 124,
   "metadata": {},
   "outputs": [],
   "source": [
    "def fScrape(serviceNumber, url, ddSelectLanguage, ddbEnglish, tSourceInput, tTranslatedText, pPopup):\n",
    "    # Set the Driver up\n",
    "    # Instantiate an Options object\n",
    "    option = webdriver.ChromeOptions()\n",
    "    #Remove navigator.webdriver flag\n",
    "    option.add_argument('--disable-blink-features=AutomationControlled')\n",
    "    # Change the resolution of the browser\n",
    "    option.add_argument(\"window-size=1920,1080\")\n",
    "    # Adjusting the user agent\n",
    "    option.add_argument(\"user-agent=Mozilla/5.0 (Windows NT 10.0; Win64; x64) AppleWebKit/537.36 (KHTML, like Gecko) Chrome/74.0.3729.169 Safari/537.36\")\n",
    "    #Open Browser\n",
    "    driver = webdriver.Chrome(executable_path='chromedriver.exe', options=option)\n",
    "    # Open the specfied URL\n",
    "    driver.get(url)\n",
    "    # Sleep to avoid errors\n",
    "    time.sleep(random.uniform(2.0, 4.0))\n",
    "    # Close the popup\n",
    "    if pPopup != None:\n",
    "        bClosePopUp = driver.find_element_by_xpath(pPopup).click()\n",
    "    # Open the \"Select Language\" dropdown menu\n",
    "    if ddSelectLanguage != None: \n",
    "        ddSource = driver.find_element_by_xpath(ddSelectLanguage).click()\n",
    "    # Sleep to avoid errors\n",
    "    time.sleep(random.uniform(2.0, 4.0))\n",
    "    # Click the English button\n",
    "    if ddbEnglish != None:\n",
    "        button = driver.find_element_by_xpath(ddbEnglish).click()\n",
    "    # Sleep to avoid errors\n",
    "    time.sleep(random.uniform(2.0, 4.0))\n",
    "    # Find the text field\n",
    "    textFieldSource = driver.find_element_by_xpath(tSourceInput)\n",
    "    # Sleep to avoid errors\n",
    "    time.sleep(random.uniform(2.0, 4.0))\n",
    "    # Type the text into the text field\n",
    "    batch = 1\n",
    "    sentencesCleanBatches = {}\n",
    "    sentencesClean = []\n",
    "    for row in source['origin']:\n",
    "        textFieldSource.send_keys(row)\n",
    "        textFieldSource.send_keys(Keys.RETURN)\n",
    "        # Fix later with DF char count\n",
    "        try:\n",
    "            \n",
    "            char_usage = driver.find_element_by_xpath('//*[@id=\"J-container\"]/div[2]/div[1]/div/div[2]/div[2]/div/div[4]/div[2]/span').text\n",
    "            char_usage1 = char_usage[0:4]\n",
    "            char_usage2 = char_usage1.strip()\n",
    "            char_count = int(char_usage2)\n",
    "        except Exception:\n",
    "            char_count = 0\n",
    "            pass\n",
    "        if char_count >= 4500:\n",
    "            # Pause to avoid errors\n",
    "            time.sleep(5)\n",
    "            # Store the translated text as a string\n",
    "            translatedText = driver.find_element_by_xpath(tTranslatedText).text\n",
    "            # Sleep to avoid errors\n",
    "            time.sleep(2)\n",
    "            # Clean the output text and print\n",
    "            sentencesCleanBatches[batch] = translatedText.split(\"\\n\")\n",
    "            batch += 1\n",
    "            # Clear the input field\n",
    "            textFieldSource.clear()\n",
    "    # Pause to avoid errors\n",
    "    time.sleep(5)\n",
    "    # Store the translated text as a string\n",
    "    translatedText = driver.find_element_by_xpath(tTranslatedText).text\n",
    "    # Sleep to avoid errors\n",
    "    time.sleep(2)\n",
    "    # Clean the output for the last batch\n",
    "    sentencesCleanBatches[batch] = translatedText.split(\"\\n\")\n",
    "    # Concatenate all the batches into once list\n",
    "    for i in range(1, batch + 1):\n",
    "        sentencesClean = sentencesClean + sentencesCleanBatches[i]\n",
    "    # Sleep to avoid errors\n",
    "    time.sleep(2)\n",
    "    # Remove period strings in the list\n",
    "    while(\".\" in sentencesClean): \n",
    "        sentencesClean.remove(\".\") \n",
    "    # Strip extra things in the list\n",
    "    sentencesClean = [item.strip() for item in sentencesClean]\n",
    "    # Remove empty strings in the list\n",
    "    while(\"\" in sentencesClean): \n",
    "        sentencesClean.remove(\"\") \n",
    "    # Close the driver\n",
    "    driver.close()\n",
    "    # Define the dictionary DF\n",
    "    dSentencesClean[serviceNumber] = sentencesClean\n",
    "    # Return said DF\n",
    "    return dSentencesClean[serviceNumber]"
   ]
  },
  {
   "cell_type": "code",
   "execution_count": 125,
   "metadata": {},
   "outputs": [
    {
     "output_type": "stream",
     "name": "stdout",
     "text": [
      "Chicken\n"
     ]
    }
   ],
   "source": [
    "serviceNumber = 0\n",
    "# Create a dictionary for the services\n",
    "dSentencesClean = {}\n",
    "\n",
    "# QQ\n",
    "serviceNumber += 1 \n",
    "url = 'https://fanyi.qq.com/'\n",
    "ddSelectLanguage = '//*[@id=\"language-button-group-target\"]/div[1]'\n",
    "ddbEnglish = '//*[@id=\"language-button-group-target\"]/div[2]/ul/li[2]/span'\n",
    "tSourceInput = '/html/body/div[2]/div[2]/div[2]/div[1]/div[1]/textarea'\n",
    "tTranslatedText = '/html/body/div[2]/div[2]/div[2]/div[2]/div[2]'\n",
    "pPopup = None\n",
    "fScrape(serviceNumber, url, ddSelectLanguage, ddbEnglish, tSourceInput, tTranslatedText, pPopup)\n",
    "\n",
    "# Baidu\n",
    "serviceNumber += 1 \n",
    "url = 'https://fanyi.baidu.com/#zh/en/'\n",
    "ddSelectLanguage = None\n",
    "ddbEnglish = None\n",
    "tSourceInput = '//*[@id=\"baidu_translate_input\"]'\n",
    "tTranslatedText = '//*[@id=\"main-outer\"]/div/div/div[1]/div[2]/div[1]/div[2]/div/div/div[1]'\n",
    "pPopup = '/html/body/div[1]/div[7]/div/div/a[2]'\n",
    "fScrape(serviceNumber, url, ddSelectLanguage, ddbEnglish, tSourceInput, tTranslatedText, pPopup)\n",
    "\n",
    "# Google\n",
    "serviceNumber += 1 \n",
    "url = 'https://translate.google.com/'\n",
    "ddSelectLanguage = None\n",
    "ddbEnglish = None\n",
    "tSourceInput = '//*[@id=\"yDmH0d\"]/c-wiz/div/div[2]/c-wiz/div[2]/c-wiz/div[1]/div[2]/div[2]/c-wiz[1]/span/span/div/textarea'\n",
    "tTranslatedText = '//*[@id=\"yDmH0d\"]/c-wiz/div/div[2]/c-wiz/div[2]/c-wiz/div[1]/div[2]/div[2]/c-wiz[2]/div[5]/div/div[1]'\n",
    "pPopup = None\n",
    "fScrape(serviceNumber, url, ddSelectLanguage, ddbEnglish, tSourceInput, tTranslatedText, pPopup)\n",
    "\n",
    "\n",
    "\n",
    "print('Chicken')"
   ]
  },
  {
   "cell_type": "code",
   "execution_count": 131,
   "metadata": {},
   "outputs": [
    {
     "output_type": "execute_result",
     "data": {
      "text/plain": [
       "34"
      ]
     },
     "metadata": {},
     "execution_count": 131
    }
   ],
   "source": [
    "dSentencesClean[4]"
   ]
  },
  {
   "cell_type": "code",
   "execution_count": null,
   "metadata": {},
   "outputs": [],
   "source": []
  }
 ]
}